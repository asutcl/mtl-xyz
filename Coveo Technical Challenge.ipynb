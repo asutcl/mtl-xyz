{
 "cells": [
  {
   "cell_type": "markdown",
   "metadata": {},
   "source": []
  },
  {
   "cell_type": "code",
   "execution_count": 166,
   "metadata": {},
   "outputs": [],
   "source": [
    "import json\n",
    "import pandas as pd\n",
    "import numpy as np\n",
    "import datetime\n",
    "import helpers\n",
    "import SessionSet\n",
    "import model_evaluation\n",
    "from importlib import reload"
   ]
  },
  {
   "cell_type": "code",
   "execution_count": 107,
   "metadata": {},
   "outputs": [
    {
     "data": {
      "text/html": [
       "<div>\n",
       "<style scoped>\n",
       "    .dataframe tbody tr th:only-of-type {\n",
       "        vertical-align: middle;\n",
       "    }\n",
       "\n",
       "    .dataframe tbody tr th {\n",
       "        vertical-align: top;\n",
       "    }\n",
       "\n",
       "    .dataframe thead th {\n",
       "        text-align: right;\n",
       "    }\n",
       "</style>\n",
       "<table border=\"1\" class=\"dataframe\">\n",
       "  <thead>\n",
       "    <tr style=\"text-align: right;\">\n",
       "      <th></th>\n",
       "      <th>cities</th>\n",
       "      <th>session_id</th>\n",
       "      <th>unix_timestamp</th>\n",
       "      <th>user._row</th>\n",
       "      <th>user.country</th>\n",
       "      <th>user.joining_date</th>\n",
       "      <th>user.user_id</th>\n",
       "      <th>time_of_day</th>\n",
       "      <th>session_date</th>\n",
       "      <th>month</th>\n",
       "      <th>year</th>\n",
       "      <th>request_count</th>\n",
       "    </tr>\n",
       "  </thead>\n",
       "  <tbody>\n",
       "    <tr>\n",
       "      <th>0</th>\n",
       "      <td>[new york ny, newark nj]</td>\n",
       "      <td>X061RFWB06K9V</td>\n",
       "      <td>1442503708</td>\n",
       "      <td>NaN</td>\n",
       "      <td>UK</td>\n",
       "      <td>2015-03-22</td>\n",
       "      <td>2024</td>\n",
       "      <td>55708</td>\n",
       "      <td>2015-09-17 15:28:28</td>\n",
       "      <td>9</td>\n",
       "      <td>2015</td>\n",
       "      <td>2</td>\n",
       "    </tr>\n",
       "    <tr>\n",
       "      <th>1</th>\n",
       "      <td>[new york ny, jersey city nj, philadelphia pa]</td>\n",
       "      <td>5AZ2X2A9BHH5U</td>\n",
       "      <td>1441353991</td>\n",
       "      <td>NaN</td>\n",
       "      <td>DE</td>\n",
       "      <td>2015-03-28</td>\n",
       "      <td>2853</td>\n",
       "      <td>29191</td>\n",
       "      <td>2015-09-04 08:06:31</td>\n",
       "      <td>9</td>\n",
       "      <td>2015</td>\n",
       "      <td>3</td>\n",
       "    </tr>\n",
       "    <tr>\n",
       "      <th>2</th>\n",
       "      <td>[san antonio tx]</td>\n",
       "      <td>SHTB4IYAX4PX6</td>\n",
       "      <td>1440843490</td>\n",
       "      <td>NaN</td>\n",
       "      <td>UK</td>\n",
       "      <td>2015-03-06</td>\n",
       "      <td>10958</td>\n",
       "      <td>37090</td>\n",
       "      <td>2015-08-29 10:18:10</td>\n",
       "      <td>8</td>\n",
       "      <td>2015</td>\n",
       "      <td>1</td>\n",
       "    </tr>\n",
       "    <tr>\n",
       "      <th>3</th>\n",
       "      <td>[edmonton ab]</td>\n",
       "      <td>JBRB8MZGTX3M4</td>\n",
       "      <td>1427268063</td>\n",
       "      <td>NaN</td>\n",
       "      <td>IT</td>\n",
       "      <td>2015-03-12</td>\n",
       "      <td>7693</td>\n",
       "      <td>26463</td>\n",
       "      <td>2015-03-25 07:21:03</td>\n",
       "      <td>3</td>\n",
       "      <td>2015</td>\n",
       "      <td>1</td>\n",
       "    </tr>\n",
       "    <tr>\n",
       "      <th>4</th>\n",
       "      <td>[phoenix az, houston tx]</td>\n",
       "      <td>YJCMPURC2FL9C</td>\n",
       "      <td>1430559067</td>\n",
       "      <td>NaN</td>\n",
       "      <td>UK</td>\n",
       "      <td>2015-02-28</td>\n",
       "      <td>7506</td>\n",
       "      <td>34267</td>\n",
       "      <td>2015-05-02 09:31:07</td>\n",
       "      <td>5</td>\n",
       "      <td>2015</td>\n",
       "      <td>2</td>\n",
       "    </tr>\n",
       "  </tbody>\n",
       "</table>\n",
       "</div>"
      ],
      "text/plain": [
       "                                           cities     session_id  \\\n",
       "0                        [new york ny, newark nj]  X061RFWB06K9V   \n",
       "1  [new york ny, jersey city nj, philadelphia pa]  5AZ2X2A9BHH5U   \n",
       "2                                [san antonio tx]  SHTB4IYAX4PX6   \n",
       "3                                   [edmonton ab]  JBRB8MZGTX3M4   \n",
       "4                        [phoenix az, houston tx]  YJCMPURC2FL9C   \n",
       "\n",
       "   unix_timestamp user._row user.country user.joining_date  user.user_id  \\\n",
       "0      1442503708       NaN           UK        2015-03-22          2024   \n",
       "1      1441353991       NaN           DE        2015-03-28          2853   \n",
       "2      1440843490       NaN           UK        2015-03-06         10958   \n",
       "3      1427268063       NaN           IT        2015-03-12          7693   \n",
       "4      1430559067       NaN           UK        2015-02-28          7506   \n",
       "\n",
       "   time_of_day        session_date  month  year  request_count  \n",
       "0        55708 2015-09-17 15:28:28      9  2015              2  \n",
       "1        29191 2015-09-04 08:06:31      9  2015              3  \n",
       "2        37090 2015-08-29 10:18:10      8  2015              1  \n",
       "3        26463 2015-03-25 07:21:03      3  2015              1  \n",
       "4        34267 2015-05-02 09:31:07      5  2015              2  "
      ]
     },
     "execution_count": 107,
     "metadata": {},
     "output_type": "execute_result"
    }
   ],
   "source": [
    "reload(helpers)\n",
    "json_data = json.load(open('./city_search.json'))\n",
    "helpers.preprocess_json_for_pandas(json_data)\n",
    "df = pd.io.json.json_normalize(json_data)\n",
    "df['time_of_day'] = pd.Series(df['unix_timestamp'] % helpers.SECONDS_PER_DAY)\n",
    "df['session_date'] = df.apply(lambda row: datetime.datetime.utcfromtimestamp(row['unix_timestamp']), axis=1)\n",
    "df['month'] = df.apply(lambda row: row['session_date'].month, axis=1)\n",
    "df['year'] = df.apply(lambda row: row['session_date'].year, axis=1)\n",
    "df['request_count'] = df.apply(lambda row: len(row['cities']), axis=1)\n",
    "df.replace('','??', inplace=True)\n",
    "df.head()"
   ]
  },
  {
   "cell_type": "code",
   "execution_count": 169,
   "metadata": {},
   "outputs": [],
   "source": [
    "reload(SessionSet)\n",
    "reload(model_evaluation)\n",
    "countries_sessions = {} \n",
    "time_summary_df = pd.DataFrame()\n",
    "for country in set(df['user.country'].values):\n",
    "    countries_sessions[country] = SessionSet.SessionSet(df.loc[df.loc[:,'user.country'] == country ,:], country)\n",
    "    time_summary_df[country] = countries_sessions[country].get_time_metrics()\n",
    "countries_sessions['ALL'] = SessionSet.SessionSet(df,'ALL')\n",
    "time_summary_df['ALL'] = countries_sessions['ALL'].get_time_metrics()\n",
    "time_summary_df = time_summary_df.T"
   ]
  },
  {
   "cell_type": "code",
   "execution_count": 170,
   "metadata": {},
   "outputs": [
    {
     "name": "stdout",
     "output_type": "stream",
     "text": [
      "13347 6675\n",
      "13348 6674\n",
      "13349 6673\n",
      "13347 6675\n",
      "13348 6674\n",
      "13349 6673\n",
      "13347 6675\n",
      "13348 6674\n",
      "13349 6673\n",
      "13347 6675\n",
      "13348 6674\n",
      "13349 6673\n",
      "13347 6675\n",
      "13348 6674\n",
      "13349 6673\n"
     ]
    }
   ],
   "source": [
    "model_evaluation.compute_generalization_error_estimate(countries_sessions['ALL'])"
   ]
  },
  {
   "cell_type": "code",
   "execution_count": 164,
   "metadata": {},
   "outputs": [
    {
     "name": "stdout",
     "output_type": "stream",
     "text": [
      "10010 10012\n",
      "10012 10010\n",
      "10010 10012\n",
      "10012 10010\n"
     ]
    }
   ],
   "source": []
  },
  {
   "cell_type": "code",
   "execution_count": 159,
   "metadata": {},
   "outputs": [
    {
     "name": "stdout",
     "output_type": "stream",
     "text": [
      "windsor on\n"
     ]
    }
   ],
   "source": [
    "diag = np.diag(log_proba.values)\n",
    "sequence = ['toledo oh']\n",
    "ll = np.zeros((1,89))\n",
    "for city in sequence:\n",
    "    ll = ll + log_proba.loc[city].values\n",
    "ll += max(len(sequence),1) * diag\n",
    "ll = ll * -1\n",
    "def ciy_to_index(i):\n",
    "    return list(city_index_mapping.keys())[i]\n",
    "\n",
    "ordered_list = list(map(ciy_to_index, np.argsort(ll.flatten())))\n",
    "print(next(city for city in ordered_list if city not in sequence))"
   ]
  },
  {
   "cell_type": "code",
   "execution_count": 155,
   "metadata": {},
   "outputs": [
    {
     "data": {
      "text/plain": [
       "-0.6931472"
      ]
     },
     "execution_count": 155,
     "metadata": {},
     "output_type": "execute_result"
    }
   ],
   "source": []
  },
  {
   "cell_type": "code",
   "execution_count": 30,
   "metadata": {},
   "outputs": [
    {
     "data": {
      "text/html": [
       "<div>\n",
       "<style scoped>\n",
       "    .dataframe tbody tr th:only-of-type {\n",
       "        vertical-align: middle;\n",
       "    }\n",
       "\n",
       "    .dataframe tbody tr th {\n",
       "        vertical-align: top;\n",
       "    }\n",
       "\n",
       "    .dataframe thead th {\n",
       "        text-align: right;\n",
       "    }\n",
       "</style>\n",
       "<table border=\"1\" class=\"dataframe\">\n",
       "  <thead>\n",
       "    <tr style=\"text-align: right;\">\n",
       "      <th></th>\n",
       "      <th>ES</th>\n",
       "      <th>UK</th>\n",
       "      <th>US</th>\n",
       "      <th>??</th>\n",
       "      <th>FR</th>\n",
       "      <th>DE</th>\n",
       "      <th>IT</th>\n",
       "      <th>ALL</th>\n",
       "    </tr>\n",
       "  </thead>\n",
       "  <tbody>\n",
       "    <tr>\n",
       "      <th>ES</th>\n",
       "      <td>569.0</td>\n",
       "      <td>0.0</td>\n",
       "      <td>0.0</td>\n",
       "      <td>0.0</td>\n",
       "      <td>0.0</td>\n",
       "      <td>0.0</td>\n",
       "      <td>0.0</td>\n",
       "      <td>569.0</td>\n",
       "    </tr>\n",
       "    <tr>\n",
       "      <th>UK</th>\n",
       "      <td>0.0</td>\n",
       "      <td>1043.0</td>\n",
       "      <td>0.0</td>\n",
       "      <td>0.0</td>\n",
       "      <td>0.0</td>\n",
       "      <td>0.0</td>\n",
       "      <td>0.0</td>\n",
       "      <td>1043.0</td>\n",
       "    </tr>\n",
       "    <tr>\n",
       "      <th>US</th>\n",
       "      <td>0.0</td>\n",
       "      <td>0.0</td>\n",
       "      <td>1129.0</td>\n",
       "      <td>0.0</td>\n",
       "      <td>0.0</td>\n",
       "      <td>0.0</td>\n",
       "      <td>0.0</td>\n",
       "      <td>1129.0</td>\n",
       "    </tr>\n",
       "    <tr>\n",
       "      <th>??</th>\n",
       "      <td>0.0</td>\n",
       "      <td>0.0</td>\n",
       "      <td>0.0</td>\n",
       "      <td>792.0</td>\n",
       "      <td>0.0</td>\n",
       "      <td>0.0</td>\n",
       "      <td>0.0</td>\n",
       "      <td>792.0</td>\n",
       "    </tr>\n",
       "    <tr>\n",
       "      <th>FR</th>\n",
       "      <td>0.0</td>\n",
       "      <td>0.0</td>\n",
       "      <td>0.0</td>\n",
       "      <td>0.0</td>\n",
       "      <td>665.0</td>\n",
       "      <td>0.0</td>\n",
       "      <td>0.0</td>\n",
       "      <td>665.0</td>\n",
       "    </tr>\n",
       "    <tr>\n",
       "      <th>DE</th>\n",
       "      <td>0.0</td>\n",
       "      <td>0.0</td>\n",
       "      <td>0.0</td>\n",
       "      <td>0.0</td>\n",
       "      <td>0.0</td>\n",
       "      <td>1051.0</td>\n",
       "      <td>0.0</td>\n",
       "      <td>1051.0</td>\n",
       "    </tr>\n",
       "    <tr>\n",
       "      <th>IT</th>\n",
       "      <td>0.0</td>\n",
       "      <td>0.0</td>\n",
       "      <td>0.0</td>\n",
       "      <td>0.0</td>\n",
       "      <td>0.0</td>\n",
       "      <td>0.0</td>\n",
       "      <td>528.0</td>\n",
       "      <td>528.0</td>\n",
       "    </tr>\n",
       "    <tr>\n",
       "      <th>ALL</th>\n",
       "      <td>569.0</td>\n",
       "      <td>1043.0</td>\n",
       "      <td>1129.0</td>\n",
       "      <td>792.0</td>\n",
       "      <td>665.0</td>\n",
       "      <td>1051.0</td>\n",
       "      <td>528.0</td>\n",
       "      <td>5777.0</td>\n",
       "    </tr>\n",
       "  </tbody>\n",
       "</table>\n",
       "</div>"
      ],
      "text/plain": [
       "        ES      UK      US     ??     FR      DE     IT     ALL\n",
       "ES   569.0     0.0     0.0    0.0    0.0     0.0    0.0   569.0\n",
       "UK     0.0  1043.0     0.0    0.0    0.0     0.0    0.0  1043.0\n",
       "US     0.0     0.0  1129.0    0.0    0.0     0.0    0.0  1129.0\n",
       "??     0.0     0.0     0.0  792.0    0.0     0.0    0.0   792.0\n",
       "FR     0.0     0.0     0.0    0.0  665.0     0.0    0.0   665.0\n",
       "DE     0.0     0.0     0.0    0.0    0.0  1051.0    0.0  1051.0\n",
       "IT     0.0     0.0     0.0    0.0    0.0     0.0  528.0   528.0\n",
       "ALL  569.0  1043.0  1129.0  792.0  665.0  1051.0  528.0  5777.0"
      ]
     },
     "execution_count": 30,
     "metadata": {},
     "output_type": "execute_result"
    }
   ],
   "source": [
    "reload(helpers)\n",
    "user_origins = helpers.compute_user_origin_matrix(countries_sessions)\n",
    "user_origins"
   ]
  },
  {
   "cell_type": "code",
   "execution_count": 17,
   "metadata": {},
   "outputs": [
    {
     "data": {
      "text/plain": [
       "<matplotlib.axes._subplots.AxesSubplot at 0x12171e898>"
      ]
     },
     "execution_count": 17,
     "metadata": {},
     "output_type": "execute_result"
    },
    {
     "data": {
      "image/png": "[encoded data removed]",
      "text/plain": [
       "<Figure size 432x288 with 1 Axes>"
      ]
     },
     "metadata": {
      "needs_background": "light"
     },
     "output_type": "display_data"
    }
   ],
   "source": [
    "(countries_sessions['IT'].df['time_of_day']//helpers.SECONDS_PER_HOUR).hist()"
   ]
  },
  {
   "cell_type": "code",
   "execution_count": 18,
   "metadata": {},
   "outputs": [
    {
     "data": {
      "text/plain": [
       "<matplotlib.axes._subplots.AxesSubplot at 0x121816c50>"
      ]
     },
     "execution_count": 18,
     "metadata": {},
     "output_type": "execute_result"
    },
    {
     "data": {
      "image/png": "[encoded data removed]",
      "text/plain": [
       "<Figure size 432x288 with 1 Axes>"
      ]
     },
     "metadata": {
      "needs_background": "light"
     },
     "output_type": "display_data"
    }
   ],
   "source": [
    "(countries_sessions['ES'].df['time_of_day']//helpers.SECONDS_PER_HOUR).hist()"
   ]
  },
  {
   "cell_type": "code",
   "execution_count": 19,
   "metadata": {},
   "outputs": [
    {
     "data": {
      "text/plain": [
       "<matplotlib.axes._subplots.AxesSubplot at 0x121adfac8>"
      ]
     },
     "execution_count": 19,
     "metadata": {},
     "output_type": "execute_result"
    },
    {
     "data": {
      "image/png": "[encoded data removed]",
      "text/plain": [
       "<Figure size 432x288 with 1 Axes>"
      ]
     },
     "metadata": {
      "needs_background": "light"
     },
     "output_type": "display_data"
    }
   ],
   "source": [
    "(countries_sessions['??'].df['time_of_day']//helpers.SECONDS_PER_HOUR).hist()"
   ]
  },
  {
   "cell_type": "code",
   "execution_count": 20,
   "metadata": {},
   "outputs": [
    {
     "data": {
      "text/plain": [
       "<matplotlib.axes._subplots.AxesSubplot at 0x121cf71d0>"
      ]
     },
     "execution_count": 20,
     "metadata": {},
     "output_type": "execute_result"
    },
    {
     "data": {
      "image/png": "[encoded data removed]",
      "text/plain": [
       "<Figure size 432x288 with 1 Axes>"
      ]
     },
     "metadata": {
      "needs_background": "light"
     },
     "output_type": "display_data"
    }
   ],
   "source": [
    "(countries_sessions['US'].df['time_of_day']//helpers.SECONDS_PER_HOUR).hist()"
   ]
  },
  {
   "cell_type": "code",
   "execution_count": null,
   "metadata": {},
   "outputs": [],
   "source": []
  }
 ],
 "metadata": {
  "kernelspec": {
   "display_name": "Python 3",
   "language": "python",
   "name": "python3"
  },
  "language_info": {
   "codemirror_mode": {
    "name": "ipython",
    "version": 3
   },
   "file_extension": ".py",
   "mimetype": "text/x-python",
   "name": "python",
   "nbconvert_exporter": "python",
   "pygments_lexer": "ipython3",
   "version": "3.7.2"
  }
 },
 "nbformat": 4,
 "nbformat_minor": 2
}
