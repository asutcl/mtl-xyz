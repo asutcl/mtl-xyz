{
 "cells": [
  {
   "cell_type": "markdown",
   "metadata": {},
   "source": []
  },
  {
   "cell_type": "code",
   "execution_count": 1,
   "metadata": {},
   "outputs": [],
   "source": [
    "import json\n",
    "import pandas as pd\n",
    "import numpy as np\n",
    "import datetime\n",
    "import helpers\n",
    "import SessionSet\n",
    "import model_evaluation\n",
    "from importlib import reload\n",
    "from model_evaluation import compute_generalization_error_estimate"
   ]
  },
  {
   "cell_type": "code",
   "execution_count": 2,
   "metadata": {},
   "outputs": [
    {
     "data": {
      "text/html": [
       "<div>\n",
       "<style scoped>\n",
       "    .dataframe tbody tr th:only-of-type {\n",
       "        vertical-align: middle;\n",
       "    }\n",
       "\n",
       "    .dataframe tbody tr th {\n",
       "        vertical-align: top;\n",
       "    }\n",
       "\n",
       "    .dataframe thead th {\n",
       "        text-align: right;\n",
       "    }\n",
       "</style>\n",
       "<table border=\"1\" class=\"dataframe\">\n",
       "  <thead>\n",
       "    <tr style=\"text-align: right;\">\n",
       "      <th></th>\n",
       "      <th>cities</th>\n",
       "      <th>session_id</th>\n",
       "      <th>unix_timestamp</th>\n",
       "      <th>user._row</th>\n",
       "      <th>user.country</th>\n",
       "      <th>user.joining_date</th>\n",
       "      <th>user.user_id</th>\n",
       "      <th>time_of_day</th>\n",
       "      <th>hour_of_day</th>\n",
       "      <th>centered_hour</th>\n",
       "      <th>session_date</th>\n",
       "      <th>month</th>\n",
       "      <th>day</th>\n",
       "      <th>year</th>\n",
       "      <th>join_month</th>\n",
       "      <th>join_day</th>\n",
       "      <th>request_count</th>\n",
       "    </tr>\n",
       "  </thead>\n",
       "  <tbody>\n",
       "    <tr>\n",
       "      <th>0</th>\n",
       "      <td>[new york ny, newark nj]</td>\n",
       "      <td>X061RFWB06K9V</td>\n",
       "      <td>1442503708</td>\n",
       "      <td>NaN</td>\n",
       "      <td>UK</td>\n",
       "      <td>2015-03-22</td>\n",
       "      <td>2024</td>\n",
       "      <td>55708</td>\n",
       "      <td>15</td>\n",
       "      <td>3</td>\n",
       "      <td>2015-09-17 15:28:28</td>\n",
       "      <td>9</td>\n",
       "      <td>17</td>\n",
       "      <td>2015</td>\n",
       "      <td>03</td>\n",
       "      <td>22</td>\n",
       "      <td>2</td>\n",
       "    </tr>\n",
       "    <tr>\n",
       "      <th>1</th>\n",
       "      <td>[new york ny, jersey city nj, philadelphia pa]</td>\n",
       "      <td>5AZ2X2A9BHH5U</td>\n",
       "      <td>1441353991</td>\n",
       "      <td>NaN</td>\n",
       "      <td>DE</td>\n",
       "      <td>2015-03-28</td>\n",
       "      <td>2853</td>\n",
       "      <td>29191</td>\n",
       "      <td>8</td>\n",
       "      <td>-3</td>\n",
       "      <td>2015-09-04 08:06:31</td>\n",
       "      <td>9</td>\n",
       "      <td>4</td>\n",
       "      <td>2015</td>\n",
       "      <td>03</td>\n",
       "      <td>28</td>\n",
       "      <td>3</td>\n",
       "    </tr>\n",
       "    <tr>\n",
       "      <th>2</th>\n",
       "      <td>[san antonio tx]</td>\n",
       "      <td>SHTB4IYAX4PX6</td>\n",
       "      <td>1440843490</td>\n",
       "      <td>NaN</td>\n",
       "      <td>UK</td>\n",
       "      <td>2015-03-06</td>\n",
       "      <td>10958</td>\n",
       "      <td>37090</td>\n",
       "      <td>10</td>\n",
       "      <td>-2</td>\n",
       "      <td>2015-08-29 10:18:10</td>\n",
       "      <td>8</td>\n",
       "      <td>29</td>\n",
       "      <td>2015</td>\n",
       "      <td>03</td>\n",
       "      <td>06</td>\n",
       "      <td>1</td>\n",
       "    </tr>\n",
       "    <tr>\n",
       "      <th>3</th>\n",
       "      <td>[edmonton ab]</td>\n",
       "      <td>JBRB8MZGTX3M4</td>\n",
       "      <td>1427268063</td>\n",
       "      <td>NaN</td>\n",
       "      <td>IT</td>\n",
       "      <td>2015-03-12</td>\n",
       "      <td>7693</td>\n",
       "      <td>26463</td>\n",
       "      <td>7</td>\n",
       "      <td>-4</td>\n",
       "      <td>2015-03-25 07:21:03</td>\n",
       "      <td>3</td>\n",
       "      <td>25</td>\n",
       "      <td>2015</td>\n",
       "      <td>03</td>\n",
       "      <td>12</td>\n",
       "      <td>1</td>\n",
       "    </tr>\n",
       "    <tr>\n",
       "      <th>4</th>\n",
       "      <td>[phoenix az, houston tx]</td>\n",
       "      <td>YJCMPURC2FL9C</td>\n",
       "      <td>1430559067</td>\n",
       "      <td>NaN</td>\n",
       "      <td>UK</td>\n",
       "      <td>2015-02-28</td>\n",
       "      <td>7506</td>\n",
       "      <td>34267</td>\n",
       "      <td>9</td>\n",
       "      <td>-3</td>\n",
       "      <td>2015-05-02 09:31:07</td>\n",
       "      <td>5</td>\n",
       "      <td>2</td>\n",
       "      <td>2015</td>\n",
       "      <td>02</td>\n",
       "      <td>28</td>\n",
       "      <td>2</td>\n",
       "    </tr>\n",
       "  </tbody>\n",
       "</table>\n",
       "</div>"
      ],
      "text/plain": [
       "                                           cities     session_id  \\\n",
       "0                        [new york ny, newark nj]  X061RFWB06K9V   \n",
       "1  [new york ny, jersey city nj, philadelphia pa]  5AZ2X2A9BHH5U   \n",
       "2                                [san antonio tx]  SHTB4IYAX4PX6   \n",
       "3                                   [edmonton ab]  JBRB8MZGTX3M4   \n",
       "4                        [phoenix az, houston tx]  YJCMPURC2FL9C   \n",
       "\n",
       "   unix_timestamp user._row user.country user.joining_date  user.user_id  \\\n",
       "0      1442503708       NaN           UK        2015-03-22          2024   \n",
       "1      1441353991       NaN           DE        2015-03-28          2853   \n",
       "2      1440843490       NaN           UK        2015-03-06         10958   \n",
       "3      1427268063       NaN           IT        2015-03-12          7693   \n",
       "4      1430559067       NaN           UK        2015-02-28          7506   \n",
       "\n",
       "   time_of_day  hour_of_day  centered_hour        session_date  month  day  \\\n",
       "0        55708           15              3 2015-09-17 15:28:28      9   17   \n",
       "1        29191            8             -3 2015-09-04 08:06:31      9    4   \n",
       "2        37090           10             -2 2015-08-29 10:18:10      8   29   \n",
       "3        26463            7             -4 2015-03-25 07:21:03      3   25   \n",
       "4        34267            9             -3 2015-05-02 09:31:07      5    2   \n",
       "\n",
       "   year join_month join_day  request_count  \n",
       "0  2015         03       22              2  \n",
       "1  2015         03       28              3  \n",
       "2  2015         03       06              1  \n",
       "3  2015         03       12              1  \n",
       "4  2015         02       28              2  "
      ]
     },
     "execution_count": 2,
     "metadata": {},
     "output_type": "execute_result"
    }
   ],
   "source": [
    "reload(helpers)\n",
    "json_data = json.load(open('./city_search.json'))\n",
    "helpers.preprocess_json_for_pandas(json_data)\n",
    "df = pd.io.json.json_normalize(json_data)\n",
    "df['time_of_day'] = pd.Series(df['unix_timestamp'] % helpers.SECONDS_PER_DAY)\n",
    "df['hour_of_day'] = pd.Series(df['time_of_day'] // helpers.SECONDS_PER_HOUR)\n",
    "df['centered_hour'] = df.apply(helpers.to_GMT, axis=1)\n",
    "df['session_date'] = df.apply(lambda row: datetime.datetime.utcfromtimestamp(row['unix_timestamp']), axis=1)\n",
    "df['month'] = df.apply(lambda row: row['session_date'].month, axis=1)\n",
    "df['day'] = df.apply(lambda row: row['session_date'].day, axis=1)\n",
    "df['year'] = df.apply(lambda row: row['session_date'].year, axis=1)\n",
    "df['join_month'] = df.apply(lambda row: row['user.joining_date'].split('-')[1], axis=1)\n",
    "df['join_day'] = df.apply(lambda row: row['user.joining_date'].split('-')[2], axis=1)\n",
    "df['request_count'] = df.apply(lambda row: len(row['cities']), axis=1)\n",
    "df.replace('','??', inplace=True)\n",
    "df.head()"
   ]
  },
  {
   "cell_type": "code",
   "execution_count": 3,
   "metadata": {},
   "outputs": [
    {
     "name": "stdout",
     "output_type": "stream",
     "text": [
      "DE [('new york ny', 0.2724024189114898), ('toronto on', 0.1657504123144585), ('los angeles ca', 0.12451896646509071), ('montreal qc', 0.12369433754810336), ('chicago il', 0.09785596481583288)]\n",
      "UK [('new york ny', 0.270042194092827), ('toronto on', 0.16230661040787622), ('los angeles ca', 0.13473980309423347), ('montreal qc', 0.11645569620253164), ('chicago il', 0.09676511954992968)]\n",
      "US [('new york ny', 0.26238390092879255), ('toronto on', 0.16615067079463364), ('los angeles ca', 0.13596491228070176), ('montreal qc', 0.10990712074303406), ('chicago il', 0.10036119711042311)]\n",
      "FR [('new york ny', 0.2606614447345518), ('toronto on', 0.16405570060922542), ('los angeles ca', 0.13968668407310705), ('montreal qc', 0.1174934725848564), ('chicago il', 0.09704090513489991)]\n",
      "IT [('new york ny', 0.27098831030818277), ('toronto on', 0.15621679064824653), ('los angeles ca', 0.14771519659936239), ('montreal qc', 0.1179596174282678), ('chicago il', 0.10626992561105207)]\n",
      "?? [('new york ny', 0.2673758865248227), ('toronto on', 0.1620567375886525), ('los angeles ca', 0.12198581560283688), ('montreal qc', 0.11843971631205674), ('chicago il', 0.10106382978723404)]\n",
      "ES [('new york ny', 0.2713773681515617), ('toronto on', 0.1674347158218126), ('los angeles ca', 0.1382488479262673), ('montreal qc', 0.11264720942140297), ('chicago il', 0.0931899641577061)]\n",
      "ALL [('new york ny', 0.26775546898411745), ('toronto on', 0.16376985316152232), ('los angeles ca', 0.13345320147837378), ('montreal qc', 0.11667166117271002), ('chicago il', 0.09884127459794226)]\n"
     ]
    }
   ],
   "source": [
    "reload(SessionSet)\n",
    "reload(model_evaluation)\n",
    "countries_sessions = {} \n",
    "time_summary_df = pd.DataFrame()\n",
    "for country in set(df['user.country'].values):\n",
    "    countries_sessions[country] = SessionSet.SessionSet(df.loc[df.loc[:,'user.country'] == country ,:], country)\n",
    "    time_summary_df[country] = countries_sessions[country].get_time_metrics()\n",
    "    print(country, countries_sessions[country].get_top_5_cities_with_precentage())\n",
    "countries_sessions['ALL'] = SessionSet.SessionSet(df,'ALL')\n",
    "print('ALL', countries_sessions['ALL'].get_top_5_cities_with_precentage())\n",
    "time_summary_df['ALL'] = countries_sessions['ALL'].get_time_metrics()\n",
    "time_summary_df = time_summary_df.T"
   ]
  },
  {
   "cell_type": "code",
   "execution_count": 4,
   "metadata": {},
   "outputs": [
    {
     "data": {
      "text/html": [
       "<div>\n",
       "<style scoped>\n",
       "    .dataframe tbody tr th:only-of-type {\n",
       "        vertical-align: middle;\n",
       "    }\n",
       "\n",
       "    .dataframe tbody tr th {\n",
       "        vertical-align: top;\n",
       "    }\n",
       "\n",
       "    .dataframe thead th {\n",
       "        text-align: right;\n",
       "    }\n",
       "</style>\n",
       "<table border=\"1\" class=\"dataframe\">\n",
       "  <thead>\n",
       "    <tr style=\"text-align: right;\">\n",
       "      <th></th>\n",
       "      <th>count</th>\n",
       "      <th>mean</th>\n",
       "      <th>std</th>\n",
       "      <th>min</th>\n",
       "      <th>25%</th>\n",
       "      <th>50%</th>\n",
       "      <th>75%</th>\n",
       "      <th>max</th>\n",
       "    </tr>\n",
       "  </thead>\n",
       "  <tbody>\n",
       "    <tr>\n",
       "      <th>??</th>\n",
       "      <td>2820.0</td>\n",
       "      <td>6.580142</td>\n",
       "      <td>3.123955</td>\n",
       "      <td>0.0</td>\n",
       "      <td>4.0</td>\n",
       "      <td>7.0</td>\n",
       "      <td>9.0</td>\n",
       "      <td>16.0</td>\n",
       "    </tr>\n",
       "    <tr>\n",
       "      <th>DE</th>\n",
       "      <td>3638.0</td>\n",
       "      <td>10.987356</td>\n",
       "      <td>3.211002</td>\n",
       "      <td>2.0</td>\n",
       "      <td>8.0</td>\n",
       "      <td>11.0</td>\n",
       "      <td>13.0</td>\n",
       "      <td>20.0</td>\n",
       "    </tr>\n",
       "    <tr>\n",
       "      <th>US</th>\n",
       "      <td>3876.0</td>\n",
       "      <td>16.784830</td>\n",
       "      <td>5.731015</td>\n",
       "      <td>0.0</td>\n",
       "      <td>15.0</td>\n",
       "      <td>18.0</td>\n",
       "      <td>21.0</td>\n",
       "      <td>23.0</td>\n",
       "    </tr>\n",
       "    <tr>\n",
       "      <th>IT</th>\n",
       "      <td>1882.0</td>\n",
       "      <td>11.007970</td>\n",
       "      <td>3.281809</td>\n",
       "      <td>2.0</td>\n",
       "      <td>8.0</td>\n",
       "      <td>11.0</td>\n",
       "      <td>14.0</td>\n",
       "      <td>19.0</td>\n",
       "    </tr>\n",
       "    <tr>\n",
       "      <th>FR</th>\n",
       "      <td>2298.0</td>\n",
       "      <td>11.037424</td>\n",
       "      <td>3.183051</td>\n",
       "      <td>2.0</td>\n",
       "      <td>9.0</td>\n",
       "      <td>11.0</td>\n",
       "      <td>14.0</td>\n",
       "      <td>20.0</td>\n",
       "    </tr>\n",
       "    <tr>\n",
       "      <th>ES</th>\n",
       "      <td>1953.0</td>\n",
       "      <td>10.837686</td>\n",
       "      <td>3.183071</td>\n",
       "      <td>3.0</td>\n",
       "      <td>8.0</td>\n",
       "      <td>11.0</td>\n",
       "      <td>13.0</td>\n",
       "      <td>21.0</td>\n",
       "    </tr>\n",
       "    <tr>\n",
       "      <th>UK</th>\n",
       "      <td>3555.0</td>\n",
       "      <td>11.959212</td>\n",
       "      <td>3.215444</td>\n",
       "      <td>3.0</td>\n",
       "      <td>9.0</td>\n",
       "      <td>12.0</td>\n",
       "      <td>14.0</td>\n",
       "      <td>22.0</td>\n",
       "    </tr>\n",
       "    <tr>\n",
       "      <th>ALL</th>\n",
       "      <td>20022.0</td>\n",
       "      <td>11.654580</td>\n",
       "      <td>4.854823</td>\n",
       "      <td>0.0</td>\n",
       "      <td>8.0</td>\n",
       "      <td>11.0</td>\n",
       "      <td>15.0</td>\n",
       "      <td>23.0</td>\n",
       "    </tr>\n",
       "  </tbody>\n",
       "</table>\n",
       "</div>"
      ],
      "text/plain": [
       "       count       mean       std  min   25%   50%   75%   max\n",
       "??    2820.0   6.580142  3.123955  0.0   4.0   7.0   9.0  16.0\n",
       "DE    3638.0  10.987356  3.211002  2.0   8.0  11.0  13.0  20.0\n",
       "US    3876.0  16.784830  5.731015  0.0  15.0  18.0  21.0  23.0\n",
       "IT    1882.0  11.007970  3.281809  2.0   8.0  11.0  14.0  19.0\n",
       "FR    2298.0  11.037424  3.183051  2.0   9.0  11.0  14.0  20.0\n",
       "ES    1953.0  10.837686  3.183071  3.0   8.0  11.0  13.0  21.0\n",
       "UK    3555.0  11.959212  3.215444  3.0   9.0  12.0  14.0  22.0\n",
       "ALL  20022.0  11.654580  4.854823  0.0   8.0  11.0  15.0  23.0"
      ]
     },
     "execution_count": 4,
     "metadata": {},
     "output_type": "execute_result"
    }
   ],
   "source": [
    "time_summary_df"
   ]
  },
  {
   "cell_type": "code",
   "execution_count": null,
   "metadata": {},
   "outputs": [],
   "source": []
  },
  {
   "cell_type": "code",
   "execution_count": 74,
   "metadata": {},
   "outputs": [
    {
     "name": "stdout",
     "output_type": "stream",
     "text": [
      "2 [('new york ny', 0.5), ('los angeles ca', 0.5)]\n",
      "3 [('new york ny', 0.26898326898326896), ('toronto on', 0.15444015444015444), ('los angeles ca', 0.12612612612612611), ('chicago il', 0.11518661518661519), ('montreal qc', 0.10553410553410554)]\n",
      "4 [('new york ny', 0.27532894736842106), ('toronto on', 0.1611842105263158), ('los angeles ca', 0.13322368421052633), ('montreal qc', 0.11776315789473685), ('chicago il', 0.09802631578947368)]\n",
      "5 [('new york ny', 0.2644395878863565), ('toronto on', 0.16453325007805183), ('los angeles ca', 0.1301904464564471), ('montreal qc', 0.1189509834530128), ('chicago il', 0.09959413050265377)]\n",
      "6 [('new york ny', 0.2641826116146358), ('toronto on', 0.17220543806646527), ('los angeles ca', 0.1426653239342061), ('montreal qc', 0.11916750587445452), ('chicago il', 0.08794897616649883)]\n",
      "7 [('new york ny', 0.27693303138142994), ('toronto on', 0.16628922678744743), ('los angeles ca', 0.13523131672597866), ('montreal qc', 0.1219670009705597), ('chicago il', 0.09802652863151083)]\n",
      "8 [('new york ny', 0.26513434768533506), ('toronto on', 0.16380705730009712), ('los angeles ca', 0.1349951440595662), ('montreal qc', 0.10844933635480739), ('chicago il', 0.09970864357397216)]\n",
      "9 [('new york ny', 0.26103065005052206), ('toronto on', 0.15998652745031997), ('los angeles ca', 0.128999663186258), ('montreal qc', 0.11754799595823509), ('chicago il', 0.10138093634220276)]\n",
      "10 [('new york ny', 0.22105263157894736), ('montreal qc', 0.17894736842105263), ('toronto on', 0.14736842105263157), ('los angeles ca', 0.10526315789473684), ('chicago il', 0.09473684210526316)]\n",
      "ALL [('new york ny', 0.26775546898411745), ('toronto on', 0.16376985316152232), ('los angeles ca', 0.13345320147837378), ('montreal qc', 0.11667166117271002), ('chicago il', 0.09884127459794226)]\n"
     ]
    }
   ],
   "source": [
    "month_sessions = {} \n",
    "for month in set(df['month'].values):\n",
    "    month_sessions[month] = SessionSet.SessionSet(df.loc[df.loc[:,'month'] == month ,:], month)\n",
    "    print(month, month_sessions[month].get_top_5_cities_with_precentage())\n",
    "month_sessions['ALL'] = SessionSet.SessionSet(df,'ALL')\n",
    "print('ALL', month_sessions['ALL'].get_top_5_cities_with_precentage())"
   ]
  },
  {
   "cell_type": "code",
   "execution_count": 75,
   "metadata": {},
   "outputs": [
    {
     "name": "stdout",
     "output_type": "stream",
     "text": [
      "0 [('new york ny', 0.2786234281932495), ('toronto on', 0.1628060886829914), ('montreal qc', 0.11250827266710788), ('los angeles ca', 0.11184645929847783), ('chicago il', 0.09794837855724686)]\n",
      "1 [('new york ny', 0.26791277258566976), ('toronto on', 0.1588785046728972), ('los angeles ca', 0.14205607476635515), ('montreal qc', 0.11401869158878504), ('chicago il', 0.09968847352024922)]\n",
      "2 [('new york ny', 0.2792475014697237), ('toronto on', 0.1646090534979424), ('los angeles ca', 0.13168724279835392), ('montreal qc', 0.11757789535567313), ('chicago il', 0.10170487948265726)]\n",
      "3 [('new york ny', 0.266754270696452), ('toronto on', 0.16491458607095927), ('los angeles ca', 0.13863337713534823), ('montreal qc', 0.1116951379763469), ('chicago il', 0.09855453350854139)]\n",
      "4 [('new york ny', 0.27384076990376205), ('toronto on', 0.1679790026246719), ('los angeles ca', 0.13123359580052493), ('montreal qc', 0.11198600174978128), ('chicago il', 0.10673665791776028)]\n",
      "5 [('new york ny', 0.28169014084507044), ('toronto on', 0.1619718309859155), ('los angeles ca', 0.15774647887323945), ('montreal qc', 0.10704225352112676), ('chicago il', 0.10140845070422536)]\n",
      "6 [('new york ny', 0.24285714285714285), ('toronto on', 0.17346938775510204), ('montreal qc', 0.1346938775510204), ('chicago il', 0.10408163265306122), ('los angeles ca', 0.1)]\n",
      "7 [('new york ny', 0.23893805309734514), ('toronto on', 0.18584070796460178), ('los angeles ca', 0.18141592920353983), ('montreal qc', 0.10619469026548672), ('chicago il', 0.10176991150442478)]\n",
      "8 [('new york ny', 0.2891566265060241), ('chicago il', 0.1566265060240964), ('montreal qc', 0.13253012048192772), ('toronto on', 0.12048192771084337), ('los angeles ca', 0.10843373493975904)]\n",
      "9 [('new york ny', 0.3), ('vancouver bc', 0.15), ('los angeles ca', 0.15), ('toronto on', 0.1), ('montreal qc', 0.1)]\n",
      "10 [('new york ny', 0.4), ('montreal qc', 0.4), ('vancouver bc', 0.2), ('toronto on', 0.2), ('los angeles ca', 0.2)]\n",
      "11 [('ottawa on', 0.5), ('calgary ab', 0.5)]\n",
      "12 [('los angeles ca', 1.0)]\n",
      "15 [('new york ny', 1.0)]\n",
      "16 [('new york ny', 0.375), ('los angeles ca', 0.25), ('dallas tx', 0.25), ('toronto on', 0.125), ('san antonio tx', 0.125)]\n",
      "17 [('chicago il', 0.23529411764705882), ('toronto on', 0.17647058823529413), ('philadelphia pa', 0.11764705882352941), ('new york ny', 0.11764705882352941), ('montreal qc', 0.11764705882352941)]\n",
      "18 [('toronto on', 0.23404255319148937), ('montreal qc', 0.19148936170212766), ('new york ny', 0.1702127659574468), ('los angeles ca', 0.10638297872340426), ('vancouver bc', 0.0851063829787234)]\n",
      "19 [('new york ny', 0.25510204081632654), ('los angeles ca', 0.1836734693877551), ('toronto on', 0.14285714285714285), ('montreal qc', 0.12244897959183673), ('vancouver bc', 0.07142857142857142)]\n",
      "20 [('new york ny', 0.24456521739130435), ('los angeles ca', 0.15217391304347827), ('toronto on', 0.14673913043478262), ('houston tx', 0.09782608695652174), ('montreal qc', 0.08152173913043478)]\n",
      "21 [('new york ny', 0.29136690647482016), ('toronto on', 0.18705035971223022), ('montreal qc', 0.11510791366906475), ('los angeles ca', 0.11510791366906475), ('chicago il', 0.07913669064748201)]\n",
      "22 [('new york ny', 0.2704225352112676), ('los angeles ca', 0.17183098591549295), ('toronto on', 0.16901408450704225), ('chicago il', 0.12112676056338029), ('montreal qc', 0.09014084507042254)]\n",
      "23 [('new york ny', 0.25821596244131456), ('toronto on', 0.18309859154929578), ('los angeles ca', 0.12441314553990611), ('montreal qc', 0.12206572769953052), ('chicago il', 0.09154929577464789)]\n",
      "24 [('new york ny', 0.3076923076923077), ('toronto on', 0.1830238726790451), ('los angeles ca', 0.14854111405835543), ('montreal qc', 0.09283819628647215), ('chicago il', 0.09018567639257294)]\n",
      "25 [('new york ny', 0.2826086956521739), ('toronto on', 0.16666666666666666), ('los angeles ca', 0.13043478260869565), ('chicago il', 0.12560386473429952), ('montreal qc', 0.09420289855072464)]\n",
      "26 [('new york ny', 0.24369747899159663), ('toronto on', 0.13725490196078433), ('los angeles ca', 0.13165266106442577), ('montreal qc', 0.12044817927170869), ('chicago il', 0.10644257703081232)]\n",
      "27 [('new york ny', 0.26243093922651933), ('toronto on', 0.15469613259668508), ('los angeles ca', 0.1270718232044199), ('chicago il', 0.10220994475138122), ('montreal qc', 0.09668508287292818)]\n",
      "28 [('new york ny', 0.22792022792022792), ('toronto on', 0.17663817663817663), ('los angeles ca', 0.11965811965811966), ('chicago il', 0.1111111111111111), ('montreal qc', 0.10541310541310542)]\n",
      "29 [('new york ny', 0.2723735408560311), ('montreal qc', 0.15953307392996108), ('toronto on', 0.14785992217898833), ('los angeles ca', 0.14785992217898833), ('vancouver bc', 0.10505836575875487)]\n",
      "-2 [('new york ny', 0.2708211997670355), ('toronto on', 0.16773442050087362), ('los angeles ca', 0.1333721607454863), ('montreal qc', 0.11822947000582411), ('chicago il', 0.0978450786255096)]\n",
      "-9 [('detroit mi', 0.23076923076923078), ('chicago il', 0.23076923076923078), ('houston tx', 0.15384615384615385), ('washington dc', 0.07692307692307693), ('toronto on', 0.07692307692307693)]\n",
      "-8 [('new york ny', 0.225), ('houston tx', 0.2), ('toronto on', 0.175), ('san diego ca', 0.125), ('montreal qc', 0.125)]\n",
      "-7 [('new york ny', 0.30201342281879195), ('los angeles ca', 0.14093959731543623), ('toronto on', 0.11409395973154363), ('houston tx', 0.10067114093959731), ('philadelphia pa', 0.09395973154362416)]\n",
      "-6 [('new york ny', 0.2661290322580645), ('toronto on', 0.15591397849462366), ('los angeles ca', 0.12634408602150538), ('montreal qc', 0.12096774193548387), ('chicago il', 0.07795698924731183)]\n",
      "-5 [('new york ny', 0.2729591836734694), ('toronto on', 0.15943877551020408), ('los angeles ca', 0.14158163265306123), ('montreal qc', 0.12755102040816327), ('chicago il', 0.09056122448979592)]\n",
      "-4 [('new york ny', 0.2616233254531127), ('toronto on', 0.13711583924349882), ('montreal qc', 0.12923561859732072), ('los angeles ca', 0.12135539795114263), ('chicago il', 0.10874704491725769)]\n",
      "-3 [('new york ny', 0.25047558655675334), ('toronto on', 0.16930881420418517), ('los angeles ca', 0.13633481293595434), ('montreal qc', 0.13253012048192772), ('chicago il', 0.09067850348763475)]\n",
      "-1 [('new york ny', 0.267741935483871), ('toronto on', 0.1767741935483871), ('los angeles ca', 0.13612903225806453), ('montreal qc', 0.1167741935483871), ('chicago il', 0.0935483870967742)]\n",
      "ALL [('new york ny', 0.26775546898411745), ('toronto on', 0.16376985316152232), ('los angeles ca', 0.13345320147837378), ('montreal qc', 0.11667166117271002), ('chicago il', 0.09884127459794226)]\n"
     ]
    }
   ],
   "source": [
    "hour_sessions = {} \n",
    "for hour in set(df['centered_hour'].values):\n",
    "    hour_sessions[hour] = SessionSet.SessionSet(df.loc[df.loc[:,'centered_hour'] == hour ,:], hour)\n",
    "    print(hour, hour_sessions[hour].get_top_5_cities_with_precentage())\n",
    "hour_sessions['ALL'] = SessionSet.SessionSet(df,'ALL')\n",
    "print('ALL', hour_sessions['ALL'].get_top_5_cities_with_precentage())"
   ]
  },
  {
   "cell_type": "code",
   "execution_count": 41,
   "metadata": {},
   "outputs": [
    {
     "name": "stdout",
     "output_type": "stream",
     "text": [
      "22 [('new york ny', 0.24960505529225907), ('toronto on', 0.1674565560821485), ('los angeles ca', 0.13270142180094788), ('chicago il', 0.1263823064770932), ('montreal qc', 0.10426540284360189)]\n",
      "11 [('new york ny', 0.2727272727272727), ('toronto on', 0.18181818181818182), ('los angeles ca', 0.12473572938689217), ('chicago il', 0.09936575052854123), ('montreal qc', 0.09725158562367865)]\n",
      "21 [('new york ny', 0.25870646766169153), ('los angeles ca', 0.13805970149253732), ('toronto on', 0.1318407960199005), ('chicago il', 0.11567164179104478), ('montreal qc', 0.10696517412935323)]\n",
      "19 [('new york ny', 0.3047619047619048), ('los angeles ca', 0.1619047619047619), ('toronto on', 0.14285714285714285), ('montreal qc', 0.11428571428571428), ('chicago il', 0.0761904761904762)]\n",
      "09 [('new york ny', 0.26802507836990597), ('toronto on', 0.14890282131661442), ('los angeles ca', 0.14106583072100312), ('montreal qc', 0.12225705329153605), ('chicago il', 0.10031347962382445)]\n",
      "29 [('new york ny', 0.24789915966386555), ('toronto on', 0.1722689075630252), ('los angeles ca', 0.1330532212885154), ('montreal qc', 0.12464985994397759), ('chicago il', 0.08263305322128851)]\n",
      "13 [('new york ny', 0.2611111111111111), ('toronto on', 0.16944444444444445), ('los angeles ca', 0.11388888888888889), ('montreal qc', 0.10833333333333334), ('chicago il', 0.08333333333333333)]\n",
      "28 [('new york ny', 0.2660619803476946), ('toronto on', 0.164021164021164), ('los angeles ca', 0.14890400604686319), ('montreal qc', 0.11564625850340136), ('chicago il', 0.10430839002267574)]\n",
      "12 [('new york ny', 0.3046594982078853), ('toronto on', 0.21505376344086022), ('montreal qc', 0.13620071684587814), ('los angeles ca', 0.11827956989247312), ('chicago il', 0.08960573476702509)]\n",
      "03 [('new york ny', 0.2558795860771402), ('toronto on', 0.1561618062088429), ('los angeles ca', 0.14675446848541862), ('montreal qc', 0.11665098777046096), ('chicago il', 0.11100658513640639)]\n",
      "27 [('new york ny', 0.30238726790450926), ('toronto on', 0.14854111405835543), ('los angeles ca', 0.14323607427055704), ('montreal qc', 0.10875331564986737), ('chicago il', 0.07692307692307693)]\n",
      "05 [('new york ny', 0.28152492668621704), ('toronto on', 0.18475073313782991), ('los angeles ca', 0.13196480938416422), ('chicago il', 0.13196480938416422), ('montreal qc', 0.11143695014662756)]\n",
      "10 [('new york ny', 0.2852897473997028), ('toronto on', 0.1589895988112927), ('los angeles ca', 0.11441307578008915), ('montreal qc', 0.10104011887072809), ('houston tx', 0.09063893016344725)]\n",
      "08 [('new york ny', 0.28353658536585363), ('toronto on', 0.17682926829268292), ('montreal qc', 0.13719512195121952), ('los angeles ca', 0.1326219512195122), ('chicago il', 0.09451219512195122)]\n",
      "25 [('new york ny', 0.2809734513274336), ('toronto on', 0.168141592920354), ('los angeles ca', 0.1084070796460177), ('montreal qc', 0.10619469026548672), ('chicago il', 0.09734513274336283)]\n",
      "20 [('new york ny', 0.27298050139275765), ('toronto on', 0.16434540389972144), ('chicago il', 0.12534818941504178), ('los angeles ca', 0.11977715877437325), ('montreal qc', 0.10584958217270195)]\n",
      "04 [('new york ny', 0.22271714922049), ('toronto on', 0.16258351893095768), ('los angeles ca', 0.12472160356347439), ('montreal qc', 0.11581291759465479), ('chicago il', 0.09131403118040089)]\n",
      "24 [('new york ny', 0.2811594202898551), ('toronto on', 0.15942028985507245), ('montreal qc', 0.12608695652173912), ('los angeles ca', 0.11304347826086956), ('chicago il', 0.10579710144927536)]\n",
      "15 [('new york ny', 0.2955367913148372), ('toronto on', 0.18335343787696018), ('montreal qc', 0.12303980699638119), ('los angeles ca', 0.10494571773220748), ('houston tx', 0.08323281061519903)]\n",
      "07 [('new york ny', 0.2626131953428202), ('toronto on', 0.16041397153945666), ('los angeles ca', 0.14747736093143596), ('montreal qc', 0.11513583441138421), ('chicago il', 0.0944372574385511)]\n",
      "31 [('new york ny', 0.2599431818181818), ('los angeles ca', 0.13352272727272727), ('toronto on', 0.12926136363636365), ('montreal qc', 0.11221590909090909), ('chicago il', 0.10653409090909091)]\n",
      "02 [('new york ny', 0.26270456503014644), ('toronto on', 0.16623600344530576), ('los angeles ca', 0.13953488372093023), ('montreal qc', 0.13092161929371232), ('chicago il', 0.11541774332472007)]\n",
      "14 [('new york ny', 0.2238219895287958), ('toronto on', 0.17277486910994763), ('montreal qc', 0.13743455497382198), ('los angeles ca', 0.12041884816753927), ('chicago il', 0.10471204188481675)]\n",
      "16 [('new york ny', 0.26783310901749663), ('toronto on', 0.1641991924629879), ('los angeles ca', 0.13324360699865412), ('montreal qc', 0.10901749663526245), ('chicago il', 0.09825033647375504)]\n",
      "01 [('new york ny', 0.26655202063628547), ('toronto on', 0.177128116938951), ('los angeles ca', 0.13843508168529664), ('montreal qc', 0.11006018916595013), ('chicago il', 0.09458297506448839)]\n",
      "30 [('new york ny', 0.275), ('toronto on', 0.16666666666666666), ('los angeles ca', 0.1486111111111111), ('montreal qc', 0.11666666666666667), ('houston tx', 0.075)]\n",
      "06 [('new york ny', 0.3226744186046512), ('toronto on', 0.17151162790697674), ('los angeles ca', 0.16569767441860464), ('montreal qc', 0.11337209302325581), ('chicago il', 0.09593023255813954)]\n",
      "26 [('new york ny', 0.2567049808429119), ('toronto on', 0.16091954022988506), ('los angeles ca', 0.14942528735632185), ('montreal qc', 0.10727969348659004), ('chicago il', 0.10344827586206896)]\n",
      "23 [('new york ny', 0.2560646900269542), ('toronto on', 0.16711590296495957), ('los angeles ca', 0.14285714285714285), ('montreal qc', 0.11725067385444744), ('chicago il', 0.09568733153638814)]\n",
      "18 [('new york ny', 0.29130434782608694), ('toronto on', 0.13695652173913042), ('los angeles ca', 0.11739130434782609), ('montreal qc', 0.1108695652173913), ('chicago il', 0.09565217391304348)]\n",
      "17 [('new york ny', 0.25823451910408435), ('toronto on', 0.16600790513833993), ('montreal qc', 0.12384716732542819), ('los angeles ca', 0.12384716732542819), ('chicago il', 0.1067193675889328)]\n",
      "ALL [('new york ny', 0.26775546898411745), ('toronto on', 0.16376985316152232), ('los angeles ca', 0.13345320147837378), ('montreal qc', 0.11667166117271002), ('chicago il', 0.09884127459794226)]\n"
     ]
    }
   ],
   "source": [
    "hour_sessions = {} \n",
    "for hour in set(df['join_day'].values):\n",
    "    hour_sessions[hour] = SessionSet.SessionSet(df.loc[df.loc[:,'join_day'] == hour ,:], hour)\n",
    "    print(hour, hour_sessions[hour].get_top_5_cities_with_precentage())\n",
    "hour_sessions['ALL'] = SessionSet.SessionSet(df,'ALL')\n",
    "print('ALL', hour_sessions['ALL'].get_top_5_cities_with_precentage())"
   ]
  },
  {
   "cell_type": "code",
   "execution_count": 40,
   "metadata": {},
   "outputs": [
    {
     "data": {
      "text/plain": [
       "-2     2060\n",
       "-1     1959\n",
       "-3     1862\n",
       " 1     1822\n",
       " 2     1816\n",
       " 0     1784\n",
       " 3     1622\n",
       "-4     1465\n",
       " 4     1334\n",
       "-5     1008\n",
       " 5      882\n",
       "-6      625\n",
       "-7      410\n",
       "-8      304\n",
       " 6      270\n",
       "-9      180\n",
       "-18     180\n",
       " 7      107\n",
       "-17     106\n",
       "-10      88\n",
       "-16      41\n",
       " 8       38\n",
       "-11      32\n",
       "-15      11\n",
       " 9        8\n",
       "-14       3\n",
       "-13       2\n",
       " 10       2\n",
       "-12       1\n",
       "Name: centered_hour, dtype: int64"
      ]
     },
     "execution_count": 40,
     "metadata": {},
     "output_type": "execute_result"
    }
   ],
   "source": [
    "hour_sessions['ALL'].df.loc[:,'centered_hour'].value_counts()"
   ]
  },
  {
   "cell_type": "code",
   "execution_count": 4,
   "metadata": {},
   "outputs": [
    {
     "name": "stderr",
     "output_type": "stream",
     "text": [
      "/Users/andrewsutcliffe/Desktop/Data Analysis Challenge/BayesianModel.py:79: RuntimeWarning: divide by zero encountered in log\n",
      "  X_cooccurence_probs = np.log(X_cooccurence_counts / X_total_counts)\n"
     ]
    },
    {
     "name": "stdout",
     "output_type": "stream",
     "text": [
      "fold: 0, repeat:0\n",
      "fold: 1, repeat:0\n",
      "fold: 2, repeat:0\n"
     ]
    },
    {
     "name": "stderr",
     "output_type": "stream",
     "text": [
      "/Users/andrewsutcliffe/Desktop/Data Analysis Challenge/BayesianModel.py:79: RuntimeWarning: divide by zero encountered in log\n",
      "  X_cooccurence_probs = np.log(X_cooccurence_counts / X_total_counts)\n"
     ]
    },
    {
     "name": "stdout",
     "output_type": "stream",
     "text": [
      "fold: 0, repeat:1\n",
      "fold: 1, repeat:1\n",
      "fold: 2, repeat:1\n"
     ]
    },
    {
     "name": "stderr",
     "output_type": "stream",
     "text": [
      "/Users/andrewsutcliffe/Desktop/Data Analysis Challenge/BayesianModel.py:79: RuntimeWarning: divide by zero encountered in log\n",
      "  X_cooccurence_probs = np.log(X_cooccurence_counts / X_total_counts)\n"
     ]
    },
    {
     "name": "stdout",
     "output_type": "stream",
     "text": [
      "fold: 0, repeat:2\n",
      "fold: 1, repeat:2\n",
      "fold: 2, repeat:2\n"
     ]
    },
    {
     "name": "stderr",
     "output_type": "stream",
     "text": [
      "/Users/andrewsutcliffe/Desktop/Data Analysis Challenge/BayesianModel.py:79: RuntimeWarning: divide by zero encountered in log\n",
      "  X_cooccurence_probs = np.log(X_cooccurence_counts / X_total_counts)\n"
     ]
    },
    {
     "name": "stdout",
     "output_type": "stream",
     "text": [
      "fold: 0, repeat:3\n",
      "fold: 1, repeat:3\n",
      "fold: 2, repeat:3\n"
     ]
    },
    {
     "name": "stderr",
     "output_type": "stream",
     "text": [
      "/Users/andrewsutcliffe/Desktop/Data Analysis Challenge/BayesianModel.py:79: RuntimeWarning: divide by zero encountered in log\n",
      "  X_cooccurence_probs = np.log(X_cooccurence_counts / X_total_counts)\n"
     ]
    },
    {
     "name": "stdout",
     "output_type": "stream",
     "text": [
      "fold: 0, repeat:4\n",
      "fold: 1, repeat:4\n",
      "fold: 2, repeat:4\n"
     ]
    },
    {
     "name": "stderr",
     "output_type": "stream",
     "text": [
      "/Users/andrewsutcliffe/Desktop/Data Analysis Challenge/BayesianModel.py:79: RuntimeWarning: divide by zero encountered in log\n",
      "  X_cooccurence_probs = np.log(X_cooccurence_counts / X_total_counts)\n"
     ]
    },
    {
     "name": "stdout",
     "output_type": "stream",
     "text": [
      "fold: 0, repeat:5\n",
      "fold: 1, repeat:5\n",
      "fold: 2, repeat:5\n"
     ]
    },
    {
     "name": "stderr",
     "output_type": "stream",
     "text": [
      "/Users/andrewsutcliffe/Desktop/Data Analysis Challenge/BayesianModel.py:79: RuntimeWarning: divide by zero encountered in log\n",
      "  X_cooccurence_probs = np.log(X_cooccurence_counts / X_total_counts)\n"
     ]
    },
    {
     "name": "stdout",
     "output_type": "stream",
     "text": [
      "fold: 0, repeat:6\n",
      "fold: 1, repeat:6\n",
      "fold: 2, repeat:6\n"
     ]
    },
    {
     "name": "stderr",
     "output_type": "stream",
     "text": [
      "/Users/andrewsutcliffe/Desktop/Data Analysis Challenge/BayesianModel.py:79: RuntimeWarning: divide by zero encountered in log\n",
      "  X_cooccurence_probs = np.log(X_cooccurence_counts / X_total_counts)\n"
     ]
    },
    {
     "name": "stdout",
     "output_type": "stream",
     "text": [
      "fold: 0, repeat:7\n",
      "fold: 1, repeat:7\n",
      "fold: 2, repeat:7\n"
     ]
    },
    {
     "name": "stderr",
     "output_type": "stream",
     "text": [
      "/Users/andrewsutcliffe/Desktop/Data Analysis Challenge/BayesianModel.py:79: RuntimeWarning: divide by zero encountered in log\n",
      "  X_cooccurence_probs = np.log(X_cooccurence_counts / X_total_counts)\n"
     ]
    },
    {
     "name": "stdout",
     "output_type": "stream",
     "text": [
      "fold: 0, repeat:8\n",
      "fold: 1, repeat:8\n",
      "fold: 2, repeat:8\n"
     ]
    },
    {
     "name": "stderr",
     "output_type": "stream",
     "text": [
      "/Users/andrewsutcliffe/Desktop/Data Analysis Challenge/BayesianModel.py:79: RuntimeWarning: divide by zero encountered in log\n",
      "  X_cooccurence_probs = np.log(X_cooccurence_counts / X_total_counts)\n"
     ]
    },
    {
     "name": "stdout",
     "output_type": "stream",
     "text": [
      "fold: 0, repeat:9\n",
      "fold: 1, repeat:9\n",
      "fold: 2, repeat:9\n"
     ]
    }
   ],
   "source": [
    "import model_evaluation\n",
    "reload(model_evaluation)\n",
    "#results = model_evaluation.compute_generalization_error_estimate(countries_sessions['ALL'], folds=3, repeats=10, stratification='user.country', top_x_cities=5, max_request_size_for_stats = 3)\n",
    "#results_prior_only = model_evaluation.compute_generalization_error_estimate(countries_sessions['ALL'], folds=3, repeats=10, stratification='user.country', top_x_cities=5, max_request_size_for_stats = 3, ignore_coocurrences=True)\n",
    "results_user_collapsed = model_evaluation.compute_generalization_error_estimate(\n",
    "    countries_sessions['ALL'],\n",
    "    folds=3,\n",
    "    repeats=10,\n",
    "    stratification='user.country',\n",
    "    top_x_cities=5,\n",
    "    max_request_size_for_stats = 3,\n",
    "    aggregation=['user.user_id','month','day'])"
   ]
  },
  {
   "cell_type": "code",
   "execution_count": 7,
   "metadata": {},
   "outputs": [
    {
     "data": {
      "text/plain": [
       "array([0.23595557, 0.35127853, 0.44706331, 0.52334949, 0.59178409])"
      ]
     },
     "execution_count": 7,
     "metadata": {},
     "output_type": "execute_result"
    }
   ],
   "source": [
    "np.mean(np.sum(results_user_collapsed['data'], axis=2),axis=0)"
   ]
  },
  {
   "cell_type": "code",
   "execution_count": 71,
   "metadata": {},
   "outputs": [
    {
     "data": {
      "text/plain": [
       "array([[0.21349164, 0.09056788, 0.30946829, 0.39407684],\n",
       "       [0.33230988, 0.18606978, 0.49435687, 0.62200048],\n",
       "       [0.43277733, 0.31290283, 0.64770274, 0.77140687],\n",
       "       [0.51872252, 0.3980438 , 0.79805477, 0.81878426],\n",
       "       [0.58666083, 0.51204176, 0.84928747, 0.85045594]])"
      ]
     },
     "execution_count": 71,
     "metadata": {},
     "output_type": "execute_result"
    }
   ],
   "source": [
    "#results['mean']"
   ]
  },
  {
   "cell_type": "code",
   "execution_count": 72,
   "metadata": {},
   "outputs": [
    {
     "data": {
      "text/plain": [
       "array([[0.21346273, 0.19664133, 0.10935082, 0.06278971],\n",
       "       [0.33227385, 0.3167888 , 0.17986601, 0.10199649],\n",
       "       [0.43274533, 0.41074621, 0.2451387 , 0.14476015],\n",
       "       [0.51867195, 0.49588376, 0.27978138, 0.15469626],\n",
       "       [0.58661385, 0.55457949, 0.31202091, 0.17745188]])"
      ]
     },
     "execution_count": 72,
     "metadata": {},
     "output_type": "execute_result"
    }
   ],
   "source": [
    "#PREV: results_prior_only['mean'] "
   ]
  },
  {
   "cell_type": "code",
   "execution_count": 6,
   "metadata": {},
   "outputs": [
    {
     "data": {
      "text/plain": [
       "array([[0.21348239, 0.24571941, 0.2206492 , 0.15197001],\n",
       "       [0.33230976, 0.3430128 , 0.30119033, 0.23183832],\n",
       "       [0.43276234, 0.42198994, 0.36766237, 0.31372084],\n",
       "       [0.51869914, 0.48634587, 0.4467084 , 0.386651  ],\n",
       "       [0.58664246, 0.53393366, 0.51286742, 0.44249425]])"
      ]
     },
     "execution_count": 6,
     "metadata": {},
     "output_type": "execute_result"
    }
   ],
   "source": [
    "#Just User: results_user_collapsed['mean']"
   ]
  },
  {
   "cell_type": "code",
   "execution_count": 6,
   "metadata": {},
   "outputs": [
    {
     "data": {
      "text/plain": [
       "array([[0.21347934, 0.24344068, 0.31491471, 0.30937246],\n",
       "       [0.33230228, 0.35296295, 0.43171044, 0.42453221],\n",
       "       [0.43274955, 0.44732842, 0.51392102, 0.49857412],\n",
       "       [0.51867572, 0.51715839, 0.5653766 , 0.55265798],\n",
       "       [0.58663468, 0.59597419, 0.60427847, 0.59867871]])"
      ]
     },
     "execution_count": 6,
     "metadata": {},
     "output_type": "execute_result"
    }
   ],
   "source": [
    "#User Month: results_user_collapsed['mean']"
   ]
  },
  {
   "cell_type": "code",
   "execution_count": 5,
   "metadata": {},
   "outputs": [
    {
     "data": {
      "text/plain": [
       "array([[0.21348273, 0.15850314, 0.27583789, 0.32436292],\n",
       "       [0.33230901, 0.22878037, 0.41308411, 0.51062639],\n",
       "       [0.43276944, 0.30403161, 0.51136891, 0.63604813],\n",
       "       [0.5187038 , 0.39801853, 0.59741292, 0.72490651],\n",
       "       [0.58664158, 0.46238943, 0.66859835, 0.7721147 ]])"
      ]
     },
     "execution_count": 5,
     "metadata": {},
     "output_type": "execute_result"
    }
   ],
   "source": [
    "results_user_collapsed['mean']"
   ]
  },
  {
   "cell_type": "code",
   "execution_count": 7,
   "metadata": {},
   "outputs": [
    {
     "data": {
      "text/plain": [
       "array([[0.53296391, 0.34492042, 0.08086102, 0.04125466]])"
      ]
     },
     "execution_count": 7,
     "metadata": {},
     "output_type": "execute_result"
    }
   ],
   "source": [
    "np.mean(results_user_collapsed['tracker'], axis = 0)"
   ]
  },
  {
   "cell_type": "code",
   "execution_count": 64,
   "metadata": {},
   "outputs": [
    {
     "data": {
      "text/plain": [
       "array([[0.53296358, 0.34492066, 0.08086103, 0.04125473]])"
      ]
     },
     "execution_count": 64,
     "metadata": {},
     "output_type": "execute_result"
    }
   ],
   "source": [
    "np.mean(results['tracker'], axis = 0)"
   ]
  },
  {
   "cell_type": "code",
   "execution_count": 159,
   "metadata": {},
   "outputs": [
    {
     "name": "stdout",
     "output_type": "stream",
     "text": [
      "windsor on\n"
     ]
    }
   ],
   "source": [
    "diag = np.diag(log_proba.values)\n",
    "sequence = ['toledo oh']\n",
    "ll = np.zeros((1,89))\n",
    "for city in sequence:\n",
    "    ll = ll + log_proba.loc[city].values\n",
    "ll += max(len(sequence),1) * diag\n",
    "ll = ll * -1\n",
    "def ciy_to_index(i):\n",
    "    return list(city_index_mapping.keys())[i]\n",
    "\n",
    "ordered_list = list(map(ciy_to_index, np.argsort(ll.flatten())))\n",
    "print(next(city for city in ordered_list if city not in sequence))"
   ]
  },
  {
   "cell_type": "code",
   "execution_count": 21,
   "metadata": {},
   "outputs": [
    {
     "data": {
      "text/plain": [
       "array([[0.00822666, 0.01018817, 0.02419959, 0.04166754],\n",
       "       [0.00762942, 0.0117362 , 0.02116525, 0.03461666],\n",
       "       [0.00847193, 0.01394905, 0.02214446, 0.02671643]])"
      ]
     },
     "execution_count": 21,
     "metadata": {},
     "output_type": "execute_result"
    }
   ],
   "source": [
    "np.std(results/tracker, axis=0)"
   ]
  },
  {
   "cell_type": "code",
   "execution_count": 30,
   "metadata": {},
   "outputs": [
    {
     "data": {
      "text/html": [
       "<div>\n",
       "<style scoped>\n",
       "    .dataframe tbody tr th:only-of-type {\n",
       "        vertical-align: middle;\n",
       "    }\n",
       "\n",
       "    .dataframe tbody tr th {\n",
       "        vertical-align: top;\n",
       "    }\n",
       "\n",
       "    .dataframe thead th {\n",
       "        text-align: right;\n",
       "    }\n",
       "</style>\n",
       "<table border=\"1\" class=\"dataframe\">\n",
       "  <thead>\n",
       "    <tr style=\"text-align: right;\">\n",
       "      <th></th>\n",
       "      <th>ES</th>\n",
       "      <th>UK</th>\n",
       "      <th>US</th>\n",
       "      <th>??</th>\n",
       "      <th>FR</th>\n",
       "      <th>DE</th>\n",
       "      <th>IT</th>\n",
       "      <th>ALL</th>\n",
       "    </tr>\n",
       "  </thead>\n",
       "  <tbody>\n",
       "    <tr>\n",
       "      <th>ES</th>\n",
       "      <td>569.0</td>\n",
       "      <td>0.0</td>\n",
       "      <td>0.0</td>\n",
       "      <td>0.0</td>\n",
       "      <td>0.0</td>\n",
       "      <td>0.0</td>\n",
       "      <td>0.0</td>\n",
       "      <td>569.0</td>\n",
       "    </tr>\n",
       "    <tr>\n",
       "      <th>UK</th>\n",
       "      <td>0.0</td>\n",
       "      <td>1043.0</td>\n",
       "      <td>0.0</td>\n",
       "      <td>0.0</td>\n",
       "      <td>0.0</td>\n",
       "      <td>0.0</td>\n",
       "      <td>0.0</td>\n",
       "      <td>1043.0</td>\n",
       "    </tr>\n",
       "    <tr>\n",
       "      <th>US</th>\n",
       "      <td>0.0</td>\n",
       "      <td>0.0</td>\n",
       "      <td>1129.0</td>\n",
       "      <td>0.0</td>\n",
       "      <td>0.0</td>\n",
       "      <td>0.0</td>\n",
       "      <td>0.0</td>\n",
       "      <td>1129.0</td>\n",
       "    </tr>\n",
       "    <tr>\n",
       "      <th>??</th>\n",
       "      <td>0.0</td>\n",
       "      <td>0.0</td>\n",
       "      <td>0.0</td>\n",
       "      <td>792.0</td>\n",
       "      <td>0.0</td>\n",
       "      <td>0.0</td>\n",
       "      <td>0.0</td>\n",
       "      <td>792.0</td>\n",
       "    </tr>\n",
       "    <tr>\n",
       "      <th>FR</th>\n",
       "      <td>0.0</td>\n",
       "      <td>0.0</td>\n",
       "      <td>0.0</td>\n",
       "      <td>0.0</td>\n",
       "      <td>665.0</td>\n",
       "      <td>0.0</td>\n",
       "      <td>0.0</td>\n",
       "      <td>665.0</td>\n",
       "    </tr>\n",
       "    <tr>\n",
       "      <th>DE</th>\n",
       "      <td>0.0</td>\n",
       "      <td>0.0</td>\n",
       "      <td>0.0</td>\n",
       "      <td>0.0</td>\n",
       "      <td>0.0</td>\n",
       "      <td>1051.0</td>\n",
       "      <td>0.0</td>\n",
       "      <td>1051.0</td>\n",
       "    </tr>\n",
       "    <tr>\n",
       "      <th>IT</th>\n",
       "      <td>0.0</td>\n",
       "      <td>0.0</td>\n",
       "      <td>0.0</td>\n",
       "      <td>0.0</td>\n",
       "      <td>0.0</td>\n",
       "      <td>0.0</td>\n",
       "      <td>528.0</td>\n",
       "      <td>528.0</td>\n",
       "    </tr>\n",
       "    <tr>\n",
       "      <th>ALL</th>\n",
       "      <td>569.0</td>\n",
       "      <td>1043.0</td>\n",
       "      <td>1129.0</td>\n",
       "      <td>792.0</td>\n",
       "      <td>665.0</td>\n",
       "      <td>1051.0</td>\n",
       "      <td>528.0</td>\n",
       "      <td>5777.0</td>\n",
       "    </tr>\n",
       "  </tbody>\n",
       "</table>\n",
       "</div>"
      ],
      "text/plain": [
       "        ES      UK      US     ??     FR      DE     IT     ALL\n",
       "ES   569.0     0.0     0.0    0.0    0.0     0.0    0.0   569.0\n",
       "UK     0.0  1043.0     0.0    0.0    0.0     0.0    0.0  1043.0\n",
       "US     0.0     0.0  1129.0    0.0    0.0     0.0    0.0  1129.0\n",
       "??     0.0     0.0     0.0  792.0    0.0     0.0    0.0   792.0\n",
       "FR     0.0     0.0     0.0    0.0  665.0     0.0    0.0   665.0\n",
       "DE     0.0     0.0     0.0    0.0    0.0  1051.0    0.0  1051.0\n",
       "IT     0.0     0.0     0.0    0.0    0.0     0.0  528.0   528.0\n",
       "ALL  569.0  1043.0  1129.0  792.0  665.0  1051.0  528.0  5777.0"
      ]
     },
     "execution_count": 30,
     "metadata": {},
     "output_type": "execute_result"
    }
   ],
   "source": [
    "reload(helpers)\n",
    "user_origins = helpers.compute_user_origin_matrix(countries_sessions)\n",
    "user_origins"
   ]
  },
  {
   "cell_type": "code",
   "execution_count": 49,
   "metadata": {},
   "outputs": [
    {
     "data": {
      "text/plain": [
       "<matplotlib.axes._subplots.AxesSubplot at 0x1a27dc4470>"
      ]
     },
     "execution_count": 49,
     "metadata": {},
     "output_type": "execute_result"
    },
    {
     "data": {
      "image/png": "[encoded data removed]",
      "text/plain": [
       "<Figure size 432x288 with 1 Axes>"
      ]
     },
     "metadata": {
      "needs_background": "light"
     },
     "output_type": "display_data"
    }
   ],
   "source": [
    "(countries_sessions['IT'].df['centered_hour']).hist()"
   ]
  },
  {
   "cell_type": "code",
   "execution_count": 50,
   "metadata": {},
   "outputs": [
    {
     "data": {
      "text/plain": [
       "<matplotlib.axes._subplots.AxesSubplot at 0x1a26250f28>"
      ]
     },
     "execution_count": 50,
     "metadata": {},
     "output_type": "execute_result"
    },
    {
     "data": {
      "image/png": "[encoded data removed]",
      "text/plain": [
       "<Figure size 432x288 with 1 Axes>"
      ]
     },
     "metadata": {
      "needs_background": "light"
     },
     "output_type": "display_data"
    }
   ],
   "source": [
    "(countries_sessions['ES'].df['centered_hour']).hist()"
   ]
  },
  {
   "cell_type": "code",
   "execution_count": 61,
   "metadata": {},
   "outputs": [
    {
     "data": {
      "text/plain": [
       "<matplotlib.axes._subplots.AxesSubplot at 0x1a295319b0>"
      ]
     },
     "execution_count": 61,
     "metadata": {},
     "output_type": "execute_result"
    },
    {
     "data": {
      "image/png": "[encoded data removed]",
      "text/plain": [
       "<Figure size 432x288 with 1 Axes>"
      ]
     },
     "metadata": {
      "needs_background": "light"
     },
     "output_type": "display_data"
    }
   ],
   "source": [
    "(countries_sessions['??'].df['centered_hour']).hist()"
   ]
  },
  {
   "cell_type": "code",
   "execution_count": 58,
   "metadata": {},
   "outputs": [
    {
     "data": {
      "text/plain": [
       "<matplotlib.axes._subplots.AxesSubplot at 0x1a25af28d0>"
      ]
     },
     "execution_count": 58,
     "metadata": {},
     "output_type": "execute_result"
    },
    {
     "data": {
      "image/png": "[encoded data removed]",
      "text/plain": [
       "<Figure size 432x288 with 1 Axes>"
      ]
     },
     "metadata": {
      "needs_background": "light"
     },
     "output_type": "display_data"
    }
   ],
   "source": [
    "(countries_sessions['US'].df['centered_hour']).hist()"
   ]
  },
  {
   "cell_type": "code",
   "execution_count": null,
   "metadata": {},
   "outputs": [],
   "source": []
  }
 ],
 "metadata": {
  "kernelspec": {
   "display_name": "Python 3",
   "language": "python",
   "name": "python3"
  },
  "language_info": {
   "codemirror_mode": {
    "name": "ipython",
    "version": 3
   },
   "file_extension": ".py",
   "mimetype": "text/x-python",
   "name": "python",
   "nbconvert_exporter": "python",
   "pygments_lexer": "ipython3",
   "version": "3.7.2"
  }
 },
 "nbformat": 4,
 "nbformat_minor": 2
}
